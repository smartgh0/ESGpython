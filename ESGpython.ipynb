{
  "nbformat": 4,
  "nbformat_minor": 0,
  "metadata": {
    "colab": {
      "provenance": [],
      "authorship_tag": "ABX9TyNNnMc8diw8NIfnxLewHf2r",
      "include_colab_link": true
    },
    "kernelspec": {
      "name": "python3",
      "display_name": "Python 3"
    },
    "language_info": {
      "name": "python"
    }
  },
  "cells": [
    {
      "cell_type": "markdown",
      "metadata": {
        "id": "view-in-github",
        "colab_type": "text"
      },
      "source": [
        "<a href=\"https://colab.research.google.com/github/smartgh0/ESGpython/blob/main/ESGpython.ipynb\" target=\"_parent\"><img src=\"https://colab.research.google.com/assets/colab-badge.svg\" alt=\"Open In Colab\"/></a>"
      ]
    },
    {
      "cell_type": "code",
      "source": [
        "import requests\n",
        "from bs4 import BeautifulSoup\n",
        "import os\n",
        "import pandas as pd\n",
        "from urllib.parse import urljoin, urlparse\n",
        "\n",
        "# Prompt the user to input the website URL\n",
        "website_url = input(\"Enter the website URL: \")\n",
        "\n",
        "# Ensure the URL has a scheme (http:// or https://)\n",
        "if not website_url.startswith(('http://', 'https://')):\n",
        "    website_url = 'https://' + website_url\n",
        "\n",
        "download_folder = \"pdf_downloads\"  # Set the folder where the PDFs will be downloaded\n",
        "\n",
        "# Create the download folder if it doesn't exist\n",
        "if not os.path.exists(download_folder):\n",
        "    os.makedirs(download_folder)\n",
        "\n",
        "# Set to store the URLs of downloaded PDFs to avoid duplicates\n",
        "downloaded_pdfs = set()\n",
        "\n",
        "# Set to store visited URLs to avoid revisits and infinite loops\n",
        "visited_links = set()\n",
        "\n",
        "def download_pdf(url):\n",
        "    try:\n",
        "        response = requests.get(url)\n",
        "        response.raise_for_status()  # Raise an error for bad status\n",
        "        filename = url.split('/')[-1]\n",
        "        filepath = os.path.join(download_folder, filename)\n",
        "        if not os.path.isfile(filepath):  # Check if file already exists\n",
        "            with open(filepath, 'wb') as f:\n",
        "                f.write(response.content)\n",
        "            print(f\"Downloaded {filename}\")\n",
        "    except requests.exceptions.RequestException as e:\n",
        "        print(f\"Error downloading {url}: {e}\")\n",
        "\n",
        "def visit_link(link):\n",
        "    if link in visited_links:\n",
        "        return\n",
        "    visited_links.add(link)\n",
        "    try:\n",
        "        response = requests.get(link)\n",
        "        response.raise_for_status()\n",
        "        soup = BeautifulSoup(response.content, 'html.parser')\n",
        "        # Find all PDF links on the page\n",
        "        pdf_links = soup.find_all('a', href=lambda href: href and href.lower().endswith('.pdf'))\n",
        "        for pdf_link in pdf_links:\n",
        "            pdf_url = urljoin(response.url, pdf_link['href'])\n",
        "            if pdf_url not in downloaded_pdfs:  # Avoid duplicates\n",
        "                download_pdf(pdf_url)\n",
        "                downloaded_pdfs.add(pdf_url)\n",
        "        # Find all links on the page and visit them recursively\n",
        "        page_links = soup.find_all('a', href=True)\n",
        "        for page_link in page_links:\n",
        "            href = page_link['href']\n",
        "            absolute_url = urljoin(response.url, href)\n",
        "            parsed_url = urlparse(absolute_url)\n",
        "            # Stay within the same website domain and avoid revisiting links\n",
        "            if parsed_url.netloc == urlparse(website_url).netloc and absolute_url not in visited_links:\n",
        "                visit_link(absolute_url)\n",
        "    except requests.exceptions.RequestException as e:\n",
        "        print(f\"Could not parse link: {link}: {e}\")\n",
        "\n",
        "# Start visiting from the initial URL\n",
        "visit_link(website_url)\n",
        "\n",
        "# Convert the downloaded PDFs list to a pandas dataframe\n",
        "df = pd.DataFrame(list(downloaded_pdfs), columns=['Downloaded PDFs'])\n",
        "\n",
        "# Print the dataframe\n",
        "print(df.head())\n"
      ],
      "metadata": {
        "colab": {
          "base_uri": "https://localhost:8080/"
        },
        "id": "vDZUcWHj-JJ6",
        "outputId": "22ea012a-3f40-4fa6-c573-882aad5149b4"
      },
      "execution_count": 22,
      "outputs": [
        {
          "output_type": "stream",
          "name": "stdout",
          "text": [
            "Enter the website URL: ghanaweb.com\n",
            "Empty DataFrame\n",
            "Columns: [Downloaded PDFs]\n",
            "Index: []\n"
          ]
        }
      ]
    }
  ]
}